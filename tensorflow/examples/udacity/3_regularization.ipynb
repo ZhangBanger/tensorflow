{
 "cells": [
  {
   "cell_type": "markdown",
   "metadata": {
    "colab_type": "text",
    "id": "kR-4eNdK6lYS"
   },
   "source": [
    "Deep Learning\n",
    "=============\n",
    "\n",
    "Assignment 3\n",
    "------------\n",
    "\n",
    "Previously in `2_fullyconnected.ipynb`, you trained a logistic regression and a neural network model.\n",
    "\n",
    "The goal of this assignment is to explore regularization techniques."
   ]
  },
  {
   "cell_type": "code",
   "execution_count": 2,
   "metadata": {
    "cellView": "both",
    "colab": {
     "autoexec": {
      "startup": false,
      "wait_interval": 0
     }
    },
    "colab_type": "code",
    "collapsed": true,
    "id": "JLpLa8Jt7Vu4"
   },
   "outputs": [],
   "source": [
    "# These are all the modules we'll be using later. Make sure you can import them\n",
    "# before proceeding further.\n",
    "import cPickle as pickle\n",
    "import numpy as np\n",
    "import tensorflow as tf"
   ]
  },
  {
   "cell_type": "markdown",
   "metadata": {
    "colab_type": "text",
    "id": "1HrCK6e17WzV"
   },
   "source": [
    "First reload the data we generated in _notmist.ipynb_."
   ]
  },
  {
   "cell_type": "code",
   "execution_count": 3,
   "metadata": {
    "cellView": "both",
    "colab": {
     "autoexec": {
      "startup": false,
      "wait_interval": 0
     },
     "output_extras": [
      {
       "item_id": 1
      }
     ]
    },
    "colab_type": "code",
    "collapsed": false,
    "executionInfo": {
     "elapsed": 11777,
     "status": "ok",
     "timestamp": 1449849322348,
     "user": {
      "color": "",
      "displayName": "",
      "isAnonymous": false,
      "isMe": true,
      "permissionId": "",
      "photoUrl": "",
      "sessionId": "0",
      "userId": ""
     },
     "user_tz": 480
    },
    "id": "y3-cj1bpmuxc",
    "outputId": "e03576f1-ebbe-4838-c388-f1777bcc9873"
   },
   "outputs": [
    {
     "name": "stdout",
     "output_type": "stream",
     "text": [
      "Training set (200000, 28, 28) (200000,)\n",
      "Validation set (10000, 28, 28) (10000,)\n",
      "Test set (18724, 28, 28) (18724,)\n"
     ]
    }
   ],
   "source": [
    "pickle_file = 'notMNIST.pickle'\n",
    "\n",
    "with open(pickle_file, 'rb') as f:\n",
    "  save = pickle.load(f)\n",
    "  train_dataset = save['train_dataset']\n",
    "  train_labels = save['train_labels']\n",
    "  valid_dataset = save['valid_dataset']\n",
    "  valid_labels = save['valid_labels']\n",
    "  test_dataset = save['test_dataset']\n",
    "  test_labels = save['test_labels']\n",
    "  del save  # hint to help gc free up memory\n",
    "  print 'Training set', train_dataset.shape, train_labels.shape\n",
    "  print 'Validation set', valid_dataset.shape, valid_labels.shape\n",
    "  print 'Test set', test_dataset.shape, test_labels.shape"
   ]
  },
  {
   "cell_type": "markdown",
   "metadata": {
    "colab_type": "text",
    "id": "L7aHrm6nGDMB"
   },
   "source": [
    "Reformat into a shape that's more adapted to the models we're going to train:\n",
    "- data as a flat matrix,\n",
    "- labels as float 1-hot encodings."
   ]
  },
  {
   "cell_type": "code",
   "execution_count": 4,
   "metadata": {
    "cellView": "both",
    "colab": {
     "autoexec": {
      "startup": false,
      "wait_interval": 0
     },
     "output_extras": [
      {
       "item_id": 1
      }
     ]
    },
    "colab_type": "code",
    "collapsed": false,
    "executionInfo": {
     "elapsed": 11728,
     "status": "ok",
     "timestamp": 1449849322356,
     "user": {
      "color": "",
      "displayName": "",
      "isAnonymous": false,
      "isMe": true,
      "permissionId": "",
      "photoUrl": "",
      "sessionId": "0",
      "userId": ""
     },
     "user_tz": 480
    },
    "id": "IRSyYiIIGIzS",
    "outputId": "3f8996ee-3574-4f44-c953-5c8a04636582"
   },
   "outputs": [
    {
     "name": "stdout",
     "output_type": "stream",
     "text": [
      "Training set (200000, 784) (200000, 10)\n",
      "Validation set (10000, 784) (10000, 10)\n",
      "Test set (18724, 784) (18724, 10)\n"
     ]
    }
   ],
   "source": [
    "image_size = 28\n",
    "num_labels = 10\n",
    "\n",
    "def reformat(dataset, labels):\n",
    "  dataset = dataset.reshape((-1, image_size * image_size)).astype(np.float32)\n",
    "  # Map 2 to [0.0, 1.0, 0.0 ...], 3 to [0.0, 0.0, 1.0 ...]\n",
    "  labels = (np.arange(num_labels) == labels[:,None]).astype(np.float32)\n",
    "  return dataset, labels\n",
    "train_dataset, train_labels = reformat(train_dataset, train_labels)\n",
    "valid_dataset, valid_labels = reformat(valid_dataset, valid_labels)\n",
    "test_dataset, test_labels = reformat(test_dataset, test_labels)\n",
    "print 'Training set', train_dataset.shape, train_labels.shape\n",
    "print 'Validation set', valid_dataset.shape, valid_labels.shape\n",
    "print 'Test set', test_dataset.shape, test_labels.shape"
   ]
  },
  {
   "cell_type": "code",
   "execution_count": 5,
   "metadata": {
    "cellView": "both",
    "colab": {
     "autoexec": {
      "startup": false,
      "wait_interval": 0
     }
    },
    "colab_type": "code",
    "collapsed": true,
    "id": "RajPLaL_ZW6w"
   },
   "outputs": [],
   "source": [
    "def accuracy(predictions, labels):\n",
    "  return (100.0 * np.sum(np.argmax(predictions, 1) == np.argmax(labels, 1))\n",
    "          / predictions.shape[0])"
   ]
  },
  {
   "cell_type": "markdown",
   "metadata": {
    "colab_type": "text",
    "id": "sgLbUAQ1CW-1"
   },
   "source": [
    "---\n",
    "Problem 1\n",
    "---------\n",
    "\n",
    "Introduce and tune L2 regularization for both logistic and neural network models. Remember that L2 amounts to adding a penalty on the norm of the weights to the loss. In TensorFlow, you can compue the L2 loss for a tensor `t` using `nn.l2_loss(t)`. The right amount of regularization should improve your validation / test accuracy.\n",
    "\n",
    "---"
   ]
  },
  {
   "cell_type": "code",
   "execution_count": 11,
   "metadata": {
    "collapsed": false
   },
   "outputs": [],
   "source": [
    "# Copy from assignment 2\n",
    "\n",
    "graph = tf.Graph()\n",
    "batch_size = 128\n",
    "hidden_size = 1024\n",
    "\n",
    "with graph.as_default():\n",
    "      # Input data. For the training data, we use a placeholder that will be fed\n",
    "      # at run time with a training minibatch.\n",
    "      tf_train_dataset = tf.placeholder(tf.float32,\n",
    "                                        shape=(batch_size, image_size * image_size))\n",
    "      tf_train_labels = tf.placeholder(tf.float32, shape=(batch_size, num_labels))\n",
    "      tf_valid_dataset = tf.constant(valid_dataset)\n",
    "      tf_test_dataset = tf.constant(test_dataset)\n",
    "\n",
    "      # Variables.\n",
    "      weights_h = tf.Variable(\n",
    "        tf.truncated_normal([image_size * image_size, hidden_size]))\n",
    "      biases_h = tf.Variable(tf.zeros([hidden_size]))\n",
    "      weights_y = tf.Variable(tf.truncated_normal([hidden_size, num_labels]))\n",
    "      biases_y = tf.Variable(tf.truncated_normal([num_labels]))\n",
    "\n",
    "      # Training computation.\n",
    "      def single_hidden_layer_logit(input_dataset):\n",
    "        hidden = tf.nn.relu(tf.matmul(input_dataset, weights_h) + biases_h)\n",
    "        logits = tf.matmul(hidden, weights_y) + biases_y\n",
    "        return logits\n",
    "\n",
    "      logits = single_hidden_layer_logit(tf_train_dataset)\n",
    "      loss = tf.reduce_mean(\n",
    "        tf.nn.softmax_cross_entropy_with_logits(logits, tf_train_labels))\n",
    "      loss_with_reg = loss + reg_term * (tf.nn.l2_loss(weights_h) + tf.nn.l2_loss(weights_y))\n",
    "\n",
    "      # Optimizer.\n",
    "      optimizer = tf.train.GradientDescentOptimizer(0.5).minimize(loss_with_reg)\n",
    "\n",
    "      # Predictions for the training, validation, and test data.\n",
    "      train_prediction = tf.nn.softmax(logits)\n",
    "      valid_prediction = tf.nn.softmax(single_hidden_layer_logit(tf_valid_dataset))\n",
    "      test_prediction = tf.nn.softmax(single_hidden_layer_logit(tf_test_dataset))"
   ]
  },
  {
   "cell_type": "code",
   "execution_count": null,
   "metadata": {
    "collapsed": false
   },
   "outputs": [
    {
     "name": "stdout",
     "output_type": "stream",
     "text": [
      "Training with reg_term 1.00\n",
      "Initialized\n",
      "Minibatch loss at step 0 : 358.72\n",
      "Minibatch accuracy: 10.9%\n",
      "Validation accuracy: 23.9%\n",
      "Minibatch loss at step 500 : 2.30496\n",
      "Minibatch accuracy: 7.8%\n",
      "Validation accuracy: 8.8%\n",
      "Minibatch loss at step 1000 : 2.30289\n",
      "Minibatch accuracy: 9.4%\n",
      "Validation accuracy: 9.8%\n",
      "Minibatch loss at step 1500 : 2.3049\n",
      "Minibatch accuracy: 9.4%\n",
      "Validation accuracy: 10.4%\n",
      "Minibatch loss at step 2000 : 2.30453\n",
      "Minibatch accuracy: 10.9%\n",
      "Validation accuracy: 10.3%\n",
      "Minibatch loss at step 2500 : 2.30855\n",
      "Minibatch accuracy: 8.6%\n",
      "Validation accuracy: 10.3%\n",
      "Minibatch loss at step 3000 : 2.30002\n",
      "Minibatch accuracy: 10.9%\n",
      "Validation accuracy: 9.6%\n",
      "Test accuracy: 10.0%\n",
      "Training with reg_term 0.30\n",
      "Initialized\n",
      "Minibatch loss at step 0 : 393.958\n",
      "Minibatch accuracy: 5.5%\n",
      "Validation accuracy: 21.0%\n",
      "Minibatch loss at step 500 : 2.30511\n",
      "Minibatch accuracy: 7.8%\n",
      "Validation accuracy: 10.1%\n",
      "Minibatch loss at step 1000 : 2.3029\n",
      "Minibatch accuracy: 9.4%\n",
      "Validation accuracy: 9.8%\n",
      "Minibatch loss at step 1500 : 2.30475\n",
      "Minibatch accuracy: 9.4%\n",
      "Validation accuracy: 10.4%\n",
      "Minibatch loss at step 2000 : 2.30454\n",
      "Minibatch accuracy: 10.9%\n",
      "Validation accuracy: 10.3%\n",
      "Minibatch loss at step 2500 : 2.30842\n",
      "Minibatch accuracy: 8.6%\n",
      "Validation accuracy: 10.3%\n",
      "Minibatch loss at step 3000 : 2.30005\n",
      "Minibatch accuracy: 10.9%\n",
      "Validation accuracy: 9.6%\n",
      "Test accuracy: 10.0%\n",
      "Training with reg_term 0.10\n",
      "Initialized\n",
      "Minibatch loss at step 0 : 399.969\n",
      "Minibatch accuracy: 8.6%\n",
      "Validation accuracy: 38.7%\n",
      "Minibatch loss at step 500 : 2.30529\n",
      "Minibatch accuracy: 7.8%\n",
      "Validation accuracy: 10.1%\n",
      "Minibatch loss at step 1000 : 2.30292\n",
      "Minibatch accuracy: 9.4%\n",
      "Validation accuracy: 9.8%\n",
      "Minibatch loss at step 1500 : 2.30461\n",
      "Minibatch accuracy: 9.4%\n",
      "Validation accuracy: 10.4%\n",
      "Minibatch loss at step 2000 : 2.30456\n",
      "Minibatch accuracy: 10.9%\n",
      "Validation accuracy: 10.3%\n",
      "Minibatch loss at step"
     ]
    }
   ],
   "source": [
    "num_steps = 3001\n",
    "\n",
    "def run_graph():\n",
    "    with tf.Session(graph=graph) as session:\n",
    "      tf.initialize_all_variables().run()\n",
    "      print \"Initialized\"\n",
    "      for step in xrange(num_steps):\n",
    "        # Pick an offset within the training data, which has been randomized.\n",
    "        # Note: we could use better randomization across epochs.\n",
    "        offset = (step * batch_size) % (train_labels.shape[0] - batch_size)\n",
    "        # Generate a minibatch.\n",
    "        batch_data = train_dataset[offset:(offset + batch_size), :]\n",
    "        batch_labels = train_labels[offset:(offset + batch_size), :]\n",
    "        # Prepare a dictionary telling the session where to feed the minibatch.\n",
    "        # The key of the dictionary is the placeholder node of the graph to be fed,\n",
    "        # and the value is the numpy array to feed to it.\n",
    "        feed_dict = {tf_train_dataset : batch_data, tf_train_labels : batch_labels}\n",
    "        _, l, predictions = session.run(\n",
    "          [optimizer, loss, train_prediction], feed_dict=feed_dict)\n",
    "        if (step % 500 == 0):\n",
    "          print \"Minibatch loss at step\", step, \":\", l\n",
    "          print \"Minibatch accuracy: %.1f%%\" % accuracy(predictions, batch_labels)\n",
    "          print \"Validation accuracy: %.1f%%\" % accuracy(\n",
    "            valid_prediction.eval(), valid_labels)\n",
    "      print \"Test accuracy: %.1f%%\" % accuracy(test_prediction.eval(), test_labels)\n",
    "\n",
    "for reg_term in [1., 0.3, 0.1, 0.03, 0.01]:\n",
    "    setup_graph(reg_term)\n",
    "    print (\"Training with reg_term %.2f\" % reg_term)\n",
    "    run_graph()"
   ]
  },
  {
   "cell_type": "markdown",
   "metadata": {
    "colab_type": "text",
    "id": "na8xX2yHZzNF"
   },
   "source": [
    "---\n",
    "Problem 2\n",
    "---------\n",
    "Let's demonstrate an extreme case of overfitting. Restrict your training data to just a few batches. What happens?\n",
    "\n",
    "---"
   ]
  },
  {
   "cell_type": "code",
   "execution_count": null,
   "metadata": {
    "collapsed": false
   },
   "outputs": [],
   "source": [
    "num_steps = 3001\n",
    "\n",
    "def run_graph():\n",
    "    with tf.Session(graph=graph) as session:\n",
    "      tf.initialize_all_variables().run()\n",
    "      train_dataset_small = train_dataset[:1000]\n",
    "      train_labels_small = train_labels[:1000]\n",
    "      print \"Initialized\"\n",
    "      for step in xrange(num_steps):\n",
    "        # Pick an offset within the training data, which has been randomized.\n",
    "        # Note: we could use better randomization across epochs.\n",
    "        offset = (step * batch_size) % (train_labels_small.shape[0] - batch_size)\n",
    "        # Generate a minibatch.\n",
    "        batch_data = train_dataset_small[offset:(offset + batch_size), :]\n",
    "        batch_labels = train_labels_small[offset:(offset + batch_size), :]\n",
    "        # Prepare a dictionary telling the session where to feed the minibatch.\n",
    "        # The key of the dictionary is the placeholder node of the graph to be fed,\n",
    "        # and the value is the numpy array to feed to it.\n",
    "        feed_dict = {tf_train_dataset : batch_data, tf_train_labels : batch_labels}\n",
    "        _, l, predictions = session.run(\n",
    "          [optimizer, loss, train_prediction], feed_dict=feed_dict)\n",
    "        if (step % 500 == 0):\n",
    "          print \"Minibatch loss at step\", step, \":\", l\n",
    "          print \"Minibatch accuracy: %.1f%%\" % accuracy(predictions, batch_labels)\n",
    "          print \"Validation accuracy: %.1f%%\" % accuracy(\n",
    "            valid_prediction.eval(), valid_labels)\n",
    "      print \"Test accuracy: %.1f%%\" % accuracy(test_prediction.eval(), test_labels)\n",
    "    \n",
    "setup_graph(0.3)\n",
    "run_graph()"
   ]
  },
  {
   "cell_type": "markdown",
   "metadata": {},
   "source": [
    "Answer: The model stops learning when minibatch accuracy is 100%. Without regularization, the validation accuracy gets stuck at 77.3% since the model has basically memorized the training set and applied that to the validation set."
   ]
  },
  {
   "cell_type": "markdown",
   "metadata": {
    "colab_type": "text",
    "id": "ww3SCBUdlkRc"
   },
   "source": [
    "---\n",
    "Problem 3\n",
    "---------\n",
    "Introduce Dropout on the hidden layer of the neural network. Remember: Dropout should only be introduced during training, not evaluation, otherwise your evaluation results would be stochastic as well. TensorFlow provides `nn.dropout()` for that, but you have to make sure it's only inserted during training.\n",
    "\n",
    "What happens to our extreme overfitting case?\n",
    "\n",
    "---"
   ]
  },
  {
   "cell_type": "markdown",
   "metadata": {},
   "source": [
    "The extreme overfitting case gets slightly better, but it still ends up with 100% batch accuracy too early."
   ]
  },
  {
   "cell_type": "code",
   "execution_count": null,
   "metadata": {
    "collapsed": false
   },
   "outputs": [],
   "source": [
    "def setup_graph(reg_term=0., keep_prob=0.5):\n",
    "    batch_size = 128\n",
    "    hidden_size = 1024\n",
    "\n",
    "    graph = tf.Graph()\n",
    "\n",
    "    with graph.as_default():\n",
    "      # Input data. For the training data, we use a placeholder that will be fed\n",
    "      # at run time with a training minibatch.\n",
    "      tf_train_dataset = tf.placeholder(tf.float32,\n",
    "                                        shape=(batch_size, image_size * image_size))\n",
    "      tf_train_labels = tf.placeholder(tf.float32, shape=(batch_size, num_labels))\n",
    "      tf_valid_dataset = tf.constant(valid_dataset)\n",
    "      tf_test_dataset = tf.constant(test_dataset)\n",
    "\n",
    "      # Variables.\n",
    "      weights_h = tf.Variable(\n",
    "        tf.truncated_normal([image_size * image_size, hidden_size]))\n",
    "      biases_h = tf.Variable(tf.zeros([hidden_size]))\n",
    "      weights_y = tf.Variable(tf.truncated_normal([hidden_size, num_labels]))\n",
    "      biases_y = tf.Variable(tf.truncated_normal([num_labels]))\n",
    "\n",
    "      # Training computation.\n",
    "      def single_hidden_layer_logit(input_dataset, keep_prob=keep_prob):\n",
    "        hidden = tf.nn.dropout(tf.nn.relu(tf.matmul(input_dataset, weights_h) + biases_h), keep_prob)\n",
    "        logits = tf.matmul(hidden, weights_y) + biases_y\n",
    "        return logits\n",
    "\n",
    "      logits = single_hidden_layer_logit(tf_train_dataset, keep_prob=0.5)\n",
    "      loss = tf.reduce_mean(\n",
    "        tf.nn.softmax_cross_entropy_with_logits(logits, tf_train_labels))\n",
    "      loss_with_reg = loss + reg_term * (tf.nn.l2_loss(weights_h) + tf.nn.l2_loss(weights_y))\n",
    "\n",
    "      # Optimizer.\n",
    "      optimizer = tf.train.GradientDescentOptimizer(0.5).minimize(loss_with_reg)\n",
    "\n",
    "      # Predictions for the training, validation, and test data.\n",
    "      train_prediction = tf.nn.softmax(logits)\n",
    "      valid_prediction = tf.nn.softmax(single_hidden_layer_logit(tf_valid_dataset, keep_prob=1.0))\n",
    "      test_prediction = tf.nn.softmax(single_hidden_layer_logit(tf_test_dataset, keep_prob=1.0))\n",
    "\n",
    "num_steps = 10001\n",
    "def run_graph():\n",
    "    with tf.Session(graph=graph) as session:\n",
    "      tf.initialize_all_variables().run()\n",
    "      print \"Initialized\"\n",
    "      for step in xrange(num_steps):\n",
    "        # Pick an offset within the training data, which has been randomized.\n",
    "        # Note: we could use better randomization across epochs.\n",
    "        offset = (step * batch_size) % (train_labels.shape[0] - batch_size)\n",
    "        # Generate a minibatch.\n",
    "        batch_data = train_dataset[offset:(offset + batch_size), :]\n",
    "        batch_labels = train_labels[offset:(offset + batch_size), :]\n",
    "        # Prepare a dictionary telling the session where to feed the minibatch.\n",
    "        # The key of the dictionary is the placeholder node of the graph to be fed,\n",
    "        # and the value is the numpy array to feed to it.\n",
    "        feed_dict = {tf_train_dataset : batch_data, tf_train_labels : batch_labels}\n",
    "        _, l, predictions = session.run(\n",
    "          [optimizer, loss, train_prediction], feed_dict=feed_dict)\n",
    "        if (step % 500 == 0):\n",
    "          print \"Minibatch loss at step\", step, \":\", l\n",
    "          print \"Minibatch accuracy: %.1f%%\" % accuracy(predictions, batch_labels)\n",
    "          print \"Validation accuracy: %.1f%%\" % accuracy(\n",
    "            valid_prediction.eval(), valid_labels)\n",
    "      print \"Test accuracy: %.1f%%\" % accuracy(test_prediction.eval(), test_labels)\n",
    "\n",
    "for keep_prob in [0.5, 0.75]:\n",
    "    print \"Training with dropout (keep_prob): %s\" % keep_prob\n",
    "    setup_graph(reg_term=0.3, keep_prob=keep_prob)\n",
    "    run_graph()"
   ]
  },
  {
   "cell_type": "markdown",
   "metadata": {
    "colab_type": "text",
    "id": "-b1hTz3VWZjw"
   },
   "source": [
    "---\n",
    "Problem 4\n",
    "---------\n",
    "\n",
    "Try to get the best performance you can using a multi-layer model! The best reported test accuracy using a deep network is [97.1%](http://yaroslavvb.blogspot.com/2011/09/notmnist-dataset.html?showComment=1391023266211#c8758720086795711595).\n",
    "\n",
    "One avenue you can explore is to add multiple layers.\n",
    "\n",
    "Another one is to use learning rate decay:\n",
    "\n",
    "    global_step = tf.Variable(0)  # count the number of steps taken.\n",
    "    learning_rate = tf.train.exponential_decay(0.5, step, ...)\n",
    "    optimizer = tf.train.GradientDescentOptimizer(learning_rate).minimize(loss, global_step=global_step)\n",
    " \n",
    " ---\n"
   ]
  },
  {
   "cell_type": "code",
   "execution_count": 12,
   "metadata": {
    "collapsed": false
   },
   "outputs": [
    {
     "name": "stdout",
     "output_type": "stream",
     "text": [
      "Initialized\n",
      "Minibatch loss at step 0 : 34718.1\n",
      "Minibatch accuracy: 15.6%\n",
      "Validation accuracy: 9.4%\n",
      "Minibatch loss at step 1000 : 2.31229\n",
      "Minibatch accuracy: 10.9%\n",
      "Validation accuracy: 10.4%\n",
      "Minibatch loss at step 2000 : 2.3071\n",
      "Minibatch accuracy: 9.4%\n",
      "Validation accuracy: 10.4%\n",
      "Minibatch loss at step 3000 : 2.29897\n",
      "Minibatch accuracy: 12.5%\n",
      "Validation accuracy: 10.4%\n",
      "Minibatch loss at step 4000 : 2.30373\n",
      "Minibatch accuracy: 7.0%\n",
      "Validation accuracy: 10.4%\n",
      "Minibatch loss at step 5000 : 2.30152\n",
      "Minibatch accuracy: 9.4%\n",
      "Validation accuracy: 10.4%\n",
      "Minibatch loss at step 6000 : 2.30267\n",
      "Minibatch accuracy: 12.5%\n",
      "Validation accuracy: 10.1%\n",
      "Minibatch loss at step 7000 : 2.30219\n",
      "Minibatch accuracy: 15.6%\n",
      "Validation accuracy: 10.4%\n",
      "Minibatch loss at step 8000 : 2.3031\n",
      "Minibatch accuracy: 10.9%\n",
      "Validation accuracy: 10.1%\n",
      "Minibatch loss at step 9000 : 2.30252\n",
      "Minibatch accuracy: 7.8%\n",
      "Validation accuracy: 10.4%\n",
      "Minibatch loss at step 10000 : 2.30177\n",
      "Minibatch accuracy: 10.2%\n",
      "Validation accuracy: 9.8%\n",
      "Minibatch loss at step 11000 : 2.30296\n",
      "Minibatch accuracy: 10.2%\n",
      "Validation accuracy: 10.4%\n",
      "Minibatch loss at step 12000 : 2.30295\n",
      "Minibatch accuracy: 10.9%\n",
      "Validation accuracy: 9.8%\n"
     ]
    },
    {
     "ename": "KeyboardInterrupt",
     "evalue": "",
     "output_type": "error",
     "traceback": [
      "\u001b[1;31m---------------------------------------------------------------------------\u001b[0m",
      "\u001b[1;31mKeyboardInterrupt\u001b[0m                         Traceback (most recent call last)",
      "\u001b[1;32m<ipython-input-12-6e5cff3f9f17>\u001b[0m in \u001b[0;36m<module>\u001b[1;34m()\u001b[0m\n\u001b[0;32m     73\u001b[0m     \u001b[0mfeed_dict\u001b[0m \u001b[1;33m=\u001b[0m \u001b[1;33m{\u001b[0m\u001b[0mtf_train_dataset\u001b[0m \u001b[1;33m:\u001b[0m \u001b[0mbatch_data\u001b[0m\u001b[1;33m,\u001b[0m \u001b[0mtf_train_labels\u001b[0m \u001b[1;33m:\u001b[0m \u001b[0mbatch_labels\u001b[0m\u001b[1;33m}\u001b[0m\u001b[1;33m\u001b[0m\u001b[0m\n\u001b[0;32m     74\u001b[0m     _, l, predictions = session.run(\n\u001b[1;32m---> 75\u001b[1;33m       [optimizer, loss, train_prediction], feed_dict=feed_dict)\n\u001b[0m\u001b[0;32m     76\u001b[0m     \u001b[1;32mif\u001b[0m \u001b[1;33m(\u001b[0m\u001b[0mstep\u001b[0m \u001b[1;33m%\u001b[0m \u001b[1;36m1000\u001b[0m \u001b[1;33m==\u001b[0m \u001b[1;36m0\u001b[0m\u001b[1;33m)\u001b[0m\u001b[1;33m:\u001b[0m\u001b[1;33m\u001b[0m\u001b[0m\n\u001b[0;32m     77\u001b[0m       \u001b[1;32mprint\u001b[0m \u001b[1;34m\"Minibatch loss at step\"\u001b[0m\u001b[1;33m,\u001b[0m \u001b[0mstep\u001b[0m\u001b[1;33m,\u001b[0m \u001b[1;34m\":\"\u001b[0m\u001b[1;33m,\u001b[0m \u001b[0ml\u001b[0m\u001b[1;33m\u001b[0m\u001b[0m\n",
      "\u001b[1;32m/usr/local/lib/python2.7/dist-packages/tensorflow/python/client/session.pyc\u001b[0m in \u001b[0;36mrun\u001b[1;34m(self, fetches, feed_dict)\u001b[0m\n\u001b[0;32m    383\u001b[0m \u001b[1;33m\u001b[0m\u001b[0m\n\u001b[0;32m    384\u001b[0m     \u001b[1;31m# Run request and get response.\u001b[0m\u001b[1;33m\u001b[0m\u001b[1;33m\u001b[0m\u001b[0m\n\u001b[1;32m--> 385\u001b[1;33m     \u001b[0mresults\u001b[0m \u001b[1;33m=\u001b[0m \u001b[0mself\u001b[0m\u001b[1;33m.\u001b[0m\u001b[0m_do_run\u001b[0m\u001b[1;33m(\u001b[0m\u001b[0mtarget_list\u001b[0m\u001b[1;33m,\u001b[0m \u001b[0munique_fetch_targets\u001b[0m\u001b[1;33m,\u001b[0m \u001b[0mfeed_dict_string\u001b[0m\u001b[1;33m)\u001b[0m\u001b[1;33m\u001b[0m\u001b[0m\n\u001b[0m\u001b[0;32m    386\u001b[0m \u001b[1;33m\u001b[0m\u001b[0m\n\u001b[0;32m    387\u001b[0m     \u001b[1;31m# User may have fetched the same tensor multiple times, but we\u001b[0m\u001b[1;33m\u001b[0m\u001b[1;33m\u001b[0m\u001b[0m\n",
      "\u001b[1;32m/usr/local/lib/python2.7/dist-packages/tensorflow/python/client/session.pyc\u001b[0m in \u001b[0;36m_do_run\u001b[1;34m(self, target_list, fetch_list, feed_dict)\u001b[0m\n\u001b[0;32m    443\u001b[0m \u001b[1;33m\u001b[0m\u001b[0m\n\u001b[0;32m    444\u001b[0m       return tf_session.TF_Run(self._session, feed_dict, fetch_list,\n\u001b[1;32m--> 445\u001b[1;33m                                target_list)\n\u001b[0m\u001b[0;32m    446\u001b[0m \u001b[1;33m\u001b[0m\u001b[0m\n\u001b[0;32m    447\u001b[0m     \u001b[1;32mexcept\u001b[0m \u001b[0mtf_session\u001b[0m\u001b[1;33m.\u001b[0m\u001b[0mStatusNotOK\u001b[0m \u001b[1;32mas\u001b[0m \u001b[0me\u001b[0m\u001b[1;33m:\u001b[0m\u001b[1;33m\u001b[0m\u001b[0m\n",
      "\u001b[1;31mKeyboardInterrupt\u001b[0m: "
     ]
    }
   ],
   "source": [
    "num_steps = 64001\n",
    "batch_size = 128\n",
    "hidden_size_1 = 1024\n",
    "hidden_size_2 = 300\n",
    "hidden_size_3 = 50\n",
    "reg_term=0.001\n",
    "keep_prob=0.8\n",
    "\n",
    "graph = tf.Graph()\n",
    "with graph.as_default():\n",
    "  # Input data. For the training data, we use a placeholder that will be fed\n",
    "  # at run time with a training minibatch.\n",
    "  tf_train_dataset = tf.placeholder(tf.float32,\n",
    "                                    shape=(batch_size, image_size * image_size))\n",
    "  tf_train_labels = tf.placeholder(tf.float32, shape=(batch_size, num_labels))\n",
    "  tf_valid_dataset = tf.constant(valid_dataset)\n",
    "  tf_test_dataset = tf.constant(test_dataset)\n",
    "\n",
    "  # Variables.\n",
    "  weights_h_1 = tf.Variable(tf.truncated_normal([image_size * image_size, hidden_size_1]))\n",
    "  biases_h_1 = tf.Variable(tf.zeros([hidden_size_1]))\n",
    "  weights_h_2 = tf.Variable(tf.truncated_normal([hidden_size_1, hidden_size_2]))\n",
    "  biases_h_2 = tf.Variable(tf.zeros([hidden_size_2]))\n",
    "  weights_h_3 = tf.Variable(tf.truncated_normal([hidden_size_2, hidden_size_3]))\n",
    "  biases_h_3 = tf.Variable(tf.zeros([hidden_size_3]))\n",
    "  weights_y = tf.Variable(tf.truncated_normal([hidden_size_3, num_labels]))\n",
    "  biases_y = tf.Variable(tf.truncated_normal([num_labels]))\n",
    "\n",
    "  # Training computation.\n",
    "  def multi_layer_logit(input_dataset, keep_prob=keep_prob):\n",
    "    hidden_1 = tf.nn.dropout(tf.nn.relu(tf.matmul(input_dataset, weights_h_1) + biases_h_1), keep_prob)\n",
    "    hidden_2 = tf.nn.dropout(tf.nn.relu(tf.matmul(hidden_1, weights_h_2) + biases_h_2), keep_prob)\n",
    "    hidden_3 = tf.nn.dropout(tf.nn.relu(tf.matmul(hidden_2, weights_h_3) + biases_h_3), keep_prob)      \n",
    "\n",
    "    logits = tf.matmul(hidden_3, weights_y) + biases_y\n",
    "    return logits\n",
    "\n",
    "  logits = multi_layer_logit(tf_train_dataset, keep_prob=0.5)\n",
    "  epsilon = 1e-9\n",
    "  loss = tf.reduce_mean(\n",
    "    tf.nn.softmax_cross_entropy_with_logits(logits + epsilon, tf_train_labels))\n",
    "  \n",
    "  loss_with_reg = loss + reg_term * (\n",
    "        tf.nn.l2_loss(weights_h_1) +\n",
    "        tf.nn.l2_loss(weights_h_2) + \n",
    "        tf.nn.l2_loss(weights_h_3) +            \n",
    "        tf.nn.l2_loss(weights_y)\n",
    "    )\n",
    "\n",
    "  # Optimizer.\n",
    "  global_step = tf.Variable(0)\n",
    "  learning_rate = tf.train.exponential_decay(0.01, global_step, 10000, 0.95)\n",
    "  optimizer = tf.train.GradientDescentOptimizer(learning_rate).minimize(loss_with_reg, global_step=global_step)\n",
    "\n",
    "  # Predictions for the training, validation, and test data.\n",
    "  train_prediction = tf.nn.softmax(logits)\n",
    "  valid_prediction = tf.nn.softmax(multi_layer_logit(tf_valid_dataset, keep_prob=1.0))\n",
    "  test_prediction = tf.nn.softmax(multi_layer_logit(tf_test_dataset, keep_prob=1.0))\n",
    "\n",
    "with tf.Session(graph=graph) as session:\n",
    "  tf.initialize_all_variables().run()\n",
    "  print \"Initialized\"\n",
    "  for step in xrange(num_steps):\n",
    "    # Pick an offset within the training data, which has been randomized.\n",
    "    # Note: we could use better randomization across epochs.\n",
    "    offset = (step * batch_size) % (train_labels.shape[0] - batch_size)\n",
    "    # Generate a minibatch.\n",
    "    batch_data = train_dataset[offset:(offset + batch_size), :]\n",
    "    batch_labels = train_labels[offset:(offset + batch_size), :]\n",
    "    # Prepare a dictionary telling the session where to feed the minibatch.\n",
    "    # The key of the dictionary is the placeholder node of the graph to be fed,\n",
    "    # and the value is the numpy array to feed to it.\n",
    "    feed_dict = {tf_train_dataset : batch_data, tf_train_labels : batch_labels}\n",
    "    _, l, predictions = session.run(\n",
    "      [optimizer, loss, train_prediction], feed_dict=feed_dict)\n",
    "    if (step % 1000 == 0):\n",
    "      print \"Minibatch loss at step\", step, \":\", l\n",
    "      print \"Minibatch accuracy: %.1f%%\" % accuracy(predictions, batch_labels)\n",
    "      print \"Validation accuracy: %.1f%%\" % accuracy(\n",
    "        valid_prediction.eval(), valid_labels)\n",
    "  print \"Test accuracy: %.1f%%\" % accuracy(test_prediction.eval(), test_labels)\n"
   ]
  }
 ],
 "metadata": {
  "colabVersion": "0.3.2",
  "colab_default_view": {},
  "colab_views": {},
  "kernelspec": {
   "display_name": "Python 2",
   "language": "python",
   "name": "python2"
  },
  "language_info": {
   "codemirror_mode": {
    "name": "ipython",
    "version": 2
   },
   "file_extension": ".py",
   "mimetype": "text/x-python",
   "name": "python",
   "nbconvert_exporter": "python",
   "pygments_lexer": "ipython2",
   "version": "2.7.6"
  }
 },
 "nbformat": 4,
 "nbformat_minor": 0
}

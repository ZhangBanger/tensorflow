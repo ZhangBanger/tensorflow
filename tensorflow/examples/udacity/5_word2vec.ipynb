{
 "cells": [
  {
   "cell_type": "markdown",
   "metadata": {
    "colab_type": "text",
    "id": "D7tqLMoKF6uq"
   },
   "source": [
    "Deep Learning\n",
    "=============\n",
    "\n",
    "Assignment 5\n",
    "------------\n",
    "\n",
    "The goal of this assignment is to train a skip-gram model over [Text8](http://mattmahoney.net/dc/textdata) data."
   ]
  },
  {
   "cell_type": "code",
   "execution_count": 1,
   "metadata": {
    "cellView": "both",
    "colab": {
     "autoexec": {
      "startup": false,
      "wait_interval": 0
     }
    },
    "colab_type": "code",
    "collapsed": true,
    "id": "0K1ZyLn04QZf"
   },
   "outputs": [],
   "source": [
    "# These are all the modules we'll be using later. Make sure you can import them\n",
    "# before proceeding further.\n",
    "import collections\n",
    "import math\n",
    "import numpy as np\n",
    "import os\n",
    "import random\n",
    "import tensorflow as tf\n",
    "import urllib\n",
    "import zipfile\n",
    "from matplotlib import pylab\n",
    "from sklearn.manifold import TSNE"
   ]
  },
  {
   "cell_type": "markdown",
   "metadata": {
    "colab_type": "text",
    "id": "aCjPJE944bkV"
   },
   "source": [
    "Download the data from the source website if necessary."
   ]
  },
  {
   "cell_type": "code",
   "execution_count": 2,
   "metadata": {
    "cellView": "both",
    "colab": {
     "autoexec": {
      "startup": false,
      "wait_interval": 0
     },
     "output_extras": [
      {
       "item_id": 1
      }
     ]
    },
    "colab_type": "code",
    "collapsed": false,
    "executionInfo": {
     "elapsed": 14640,
     "status": "ok",
     "timestamp": 1445964482948,
     "user": {
      "color": "#1FA15D",
      "displayName": "Vincent Vanhoucke",
      "isAnonymous": false,
      "isMe": true,
      "permissionId": "05076109866853157986",
      "photoUrl": "//lh6.googleusercontent.com/-cCJa7dTDcgQ/AAAAAAAAAAI/AAAAAAAACgw/r2EZ_8oYer4/s50-c-k-no/photo.jpg",
      "sessionId": "2f1ffade4c9f20de",
      "userId": "102167687554210253930"
     },
     "user_tz": 420
    },
    "id": "RJ-o3UBUFtCw",
    "outputId": "c4ec222c-80b5-4298-e635-93ca9f79c3b7"
   },
   "outputs": [
    {
     "name": "stdout",
     "output_type": "stream",
     "text": [
      "Found and verified text8.zip\n"
     ]
    }
   ],
   "source": [
    "url = 'http://mattmahoney.net/dc/'\n",
    "\n",
    "def maybe_download(filename, expected_bytes):\n",
    "  \"\"\"Download a file if not present, and make sure it's the right size.\"\"\"\n",
    "  if not os.path.exists(filename):\n",
    "    filename, _ = urllib.urlretrieve(url + filename, filename)\n",
    "  statinfo = os.stat(filename)\n",
    "  if statinfo.st_size == expected_bytes:\n",
    "    print 'Found and verified', filename\n",
    "  else:\n",
    "    print statinfo.st_size\n",
    "    raise Exception(\n",
    "      'Failed to verify ' + filename + '. Can you get to it with a browser?')\n",
    "  return filename\n",
    "\n",
    "filename = maybe_download('text8.zip', 31344016)"
   ]
  },
  {
   "cell_type": "markdown",
   "metadata": {
    "colab_type": "text",
    "id": "Zqz3XiqI4mZT"
   },
   "source": [
    "Read the data into a string."
   ]
  },
  {
   "cell_type": "code",
   "execution_count": 3,
   "metadata": {
    "cellView": "both",
    "colab": {
     "autoexec": {
      "startup": false,
      "wait_interval": 0
     },
     "output_extras": [
      {
       "item_id": 1
      }
     ]
    },
    "colab_type": "code",
    "collapsed": false,
    "executionInfo": {
     "elapsed": 28844,
     "status": "ok",
     "timestamp": 1445964497165,
     "user": {
      "color": "#1FA15D",
      "displayName": "Vincent Vanhoucke",
      "isAnonymous": false,
      "isMe": true,
      "permissionId": "05076109866853157986",
      "photoUrl": "//lh6.googleusercontent.com/-cCJa7dTDcgQ/AAAAAAAAAAI/AAAAAAAACgw/r2EZ_8oYer4/s50-c-k-no/photo.jpg",
      "sessionId": "2f1ffade4c9f20de",
      "userId": "102167687554210253930"
     },
     "user_tz": 420
    },
    "id": "Mvf09fjugFU_",
    "outputId": "e3a928b4-1645-4fe8-be17-fcf47de5716d"
   },
   "outputs": [
    {
     "name": "stdout",
     "output_type": "stream",
     "text": [
      "Data size 17005207\n"
     ]
    }
   ],
   "source": [
    "def read_data(filename):\n",
    "  f = zipfile.ZipFile(filename)\n",
    "  for name in f.namelist():\n",
    "    return f.read(name).split()\n",
    "  f.close()\n",
    "  \n",
    "words = read_data(filename)\n",
    "print 'Data size', len(words)"
   ]
  },
  {
   "cell_type": "markdown",
   "metadata": {
    "colab_type": "text",
    "id": "Zdw6i4F8glpp"
   },
   "source": [
    "Build the dictionary and replace rare words with UNK token."
   ]
  },
  {
   "cell_type": "code",
   "execution_count": 4,
   "metadata": {
    "cellView": "both",
    "colab": {
     "autoexec": {
      "startup": false,
      "wait_interval": 0
     },
     "output_extras": [
      {
       "item_id": 1
      }
     ]
    },
    "colab_type": "code",
    "collapsed": false,
    "executionInfo": {
     "elapsed": 28849,
     "status": "ok",
     "timestamp": 1445964497178,
     "user": {
      "color": "#1FA15D",
      "displayName": "Vincent Vanhoucke",
      "isAnonymous": false,
      "isMe": true,
      "permissionId": "05076109866853157986",
      "photoUrl": "//lh6.googleusercontent.com/-cCJa7dTDcgQ/AAAAAAAAAAI/AAAAAAAACgw/r2EZ_8oYer4/s50-c-k-no/photo.jpg",
      "sessionId": "2f1ffade4c9f20de",
      "userId": "102167687554210253930"
     },
     "user_tz": 420
    },
    "id": "gAL1EECXeZsD",
    "outputId": "3fb4ecd1-df67-44b6-a2dc-2291730970b2"
   },
   "outputs": [
    {
     "name": "stdout",
     "output_type": "stream",
     "text": [
      "Most common words (+UNK) [['UNK', 418391], ('the', 1061396), ('of', 593677), ('and', 416629), ('one', 411764)]\n",
      "Sample data [5239, 3084, 12, 6, 195, 2, 3137, 46, 59, 156]\n"
     ]
    }
   ],
   "source": [
    "vocabulary_size = 50000\n",
    "\n",
    "def build_dataset(words):\n",
    "  count = [['UNK', -1]]\n",
    "  count.extend(collections.Counter(words).most_common(vocabulary_size - 1))\n",
    "  dictionary = dict()\n",
    "  for word, _ in count:\n",
    "    dictionary[word] = len(dictionary)\n",
    "  data = list()\n",
    "  unk_count = 0\n",
    "  for word in words:\n",
    "    if word in dictionary:\n",
    "      index = dictionary[word]\n",
    "    else:\n",
    "      index = 0  # dictionary['UNK']\n",
    "      unk_count = unk_count + 1\n",
    "    data.append(index)\n",
    "  count[0][1] = unk_count\n",
    "  reverse_dictionary = dict(zip(dictionary.values(), dictionary.keys())) \n",
    "  return data, count, dictionary, reverse_dictionary\n",
    "\n",
    "data, count, dictionary, reverse_dictionary = build_dataset(words)\n",
    "print 'Most common words (+UNK)', count[:5]\n",
    "print 'Sample data', data[:10]\n",
    "del words  # Hint to reduce memory."
   ]
  },
  {
   "cell_type": "markdown",
   "metadata": {
    "colab_type": "text",
    "id": "lFwoyygOmWsL"
   },
   "source": [
    "Function to generate a training batch for the skip-gram model."
   ]
  },
  {
   "cell_type": "code",
   "execution_count": 5,
   "metadata": {
    "cellView": "both",
    "colab": {
     "autoexec": {
      "startup": false,
      "wait_interval": 0
     },
     "output_extras": [
      {
       "item_id": 1
      }
     ]
    },
    "colab_type": "code",
    "collapsed": false,
    "executionInfo": {
     "elapsed": 113,
     "status": "ok",
     "timestamp": 1445964901989,
     "user": {
      "color": "#1FA15D",
      "displayName": "Vincent Vanhoucke",
      "isAnonymous": false,
      "isMe": true,
      "permissionId": "05076109866853157986",
      "photoUrl": "//lh6.googleusercontent.com/-cCJa7dTDcgQ/AAAAAAAAAAI/AAAAAAAACgw/r2EZ_8oYer4/s50-c-k-no/photo.jpg",
      "sessionId": "2f1ffade4c9f20de",
      "userId": "102167687554210253930"
     },
     "user_tz": 420
    },
    "id": "w9APjA-zmfjV",
    "outputId": "67cccb02-cdaf-4e47-d489-43bcc8d57bb8"
   },
   "outputs": [
    {
     "name": "stdout",
     "output_type": "stream",
     "text": [
      "3084 -> 5239\n",
      "originated -> anarchism\n",
      "3084 -> 12\n",
      "originated -> as\n",
      "12 -> 6\n",
      "as -> a\n",
      "12 -> 3084\n",
      "as -> originated\n",
      "6 -> 195\n",
      "a -> term\n",
      "6 -> 12\n",
      "a -> as\n",
      "195 -> 6\n",
      "term -> a\n",
      "195 -> 2\n",
      "term -> of\n"
     ]
    }
   ],
   "source": [
    "data_index = 0\n",
    "\n",
    "def generate_batch(batch_size, num_skips, skip_window):\n",
    "  global data_index\n",
    "  assert batch_size % num_skips == 0\n",
    "  assert num_skips <= 2 * skip_window\n",
    "  batch = np.ndarray(shape=(batch_size), dtype=np.int32)\n",
    "  labels = np.ndarray(shape=(batch_size, 1), dtype=np.int32)\n",
    "  span = 2 * skip_window + 1 # [ skip_window target skip_window ]\n",
    "  buffer = collections.deque(maxlen=span)\n",
    "  for _ in range(span):\n",
    "    buffer.append(data[data_index])\n",
    "    data_index = (data_index + 1) % len(data)\n",
    "  for i in range(batch_size / num_skips):\n",
    "    target = skip_window  # target label at the center of the buffer\n",
    "    targets_to_avoid = [ skip_window ]\n",
    "    for j in range(num_skips):\n",
    "      while target in targets_to_avoid:\n",
    "        target = random.randint(0, span - 1)\n",
    "      targets_to_avoid.append(target)\n",
    "      batch[i * num_skips + j] = buffer[skip_window]\n",
    "      labels[i * num_skips + j, 0] = buffer[target]\n",
    "    buffer.append(data[data_index])\n",
    "    data_index = (data_index + 1) % len(data)\n",
    "  return batch, labels\n",
    "\n",
    "batch, labels = generate_batch(batch_size=8, num_skips=2, skip_window=1)\n",
    "for i in range(8):\n",
    "  print batch[i], '->', labels[i, 0]\n",
    "  print reverse_dictionary[batch[i]], '->', reverse_dictionary[labels[i, 0]]"
   ]
  },
  {
   "cell_type": "markdown",
   "metadata": {
    "colab_type": "text",
    "id": "Ofd1MbBuwiva"
   },
   "source": [
    "Train a skip-gram model."
   ]
  },
  {
   "cell_type": "code",
   "execution_count": 6,
   "metadata": {
    "cellView": "both",
    "colab": {
     "autoexec": {
      "startup": false,
      "wait_interval": 0
     }
    },
    "colab_type": "code",
    "collapsed": true,
    "id": "8pQKsV4Vwlzy"
   },
   "outputs": [],
   "source": [
    "batch_size = 128\n",
    "embedding_size = 128 # Dimension of the embedding vector.\n",
    "skip_window = 1 # How many words to consider left and right.\n",
    "num_skips = 2 # How many times to reuse an input to generate a label.\n",
    "# We pick a random validation set to sample nearest neighbors. here we limit the\n",
    "# validation samples to the words that have a low numeric ID, which by\n",
    "# construction are also the most frequent. \n",
    "valid_size = 16 # Random set of words to evaluate similarity on.\n",
    "valid_window = 100 # Only pick dev samples in the head of the distribution.\n",
    "valid_examples = np.array(random.sample(xrange(valid_window), valid_size))\n",
    "num_sampled = 64 # Number of negative examples to sample.\n",
    "\n",
    "graph = tf.Graph()\n",
    "\n",
    "with graph.as_default():\n",
    "\n",
    "  # Input data.\n",
    "  train_dataset = tf.placeholder(tf.int32, shape=[batch_size])\n",
    "  train_labels = tf.placeholder(tf.int32, shape=[batch_size, 1])\n",
    "  valid_dataset = tf.constant(valid_examples, dtype=tf.int32)\n",
    "  \n",
    "  # Variables.\n",
    "  embeddings = tf.Variable(\n",
    "    tf.random_uniform([vocabulary_size, embedding_size], -1.0, 1.0))\n",
    "  softmax_weights = tf.Variable(\n",
    "    tf.truncated_normal([vocabulary_size, embedding_size],\n",
    "                         stddev=1.0 / math.sqrt(embedding_size)))\n",
    "  softmax_biases = tf.Variable(tf.zeros([vocabulary_size]))\n",
    "  \n",
    "  # Model.\n",
    "  # Look up embeddings for inputs.\n",
    "  embed = tf.nn.embedding_lookup(embeddings, train_dataset)\n",
    "  # Compute the softmax loss, using a sample of the negative labels each time.\n",
    "  loss = tf.reduce_mean(\n",
    "    tf.nn.sampled_softmax_loss(softmax_weights, softmax_biases, embed,\n",
    "                               train_labels, num_sampled, vocabulary_size))\n",
    "\n",
    "  # Optimizer.\n",
    "  optimizer = tf.train.AdagradOptimizer(1.0).minimize(loss)\n",
    "  \n",
    "  # Compute the similarity between minibatch examples and all embeddings.\n",
    "  # We use the cosine distance:\n",
    "  norm = tf.sqrt(tf.reduce_sum(tf.square(embeddings), 1, keep_dims=True))\n",
    "  normalized_embeddings = embeddings / norm\n",
    "  valid_embeddings = tf.nn.embedding_lookup(\n",
    "    normalized_embeddings, valid_dataset)\n",
    "  similarity = tf.matmul(valid_embeddings, tf.transpose(normalized_embeddings))"
   ]
  },
  {
   "cell_type": "code",
   "execution_count": 7,
   "metadata": {
    "cellView": "both",
    "colab": {
     "autoexec": {
      "startup": false,
      "wait_interval": 0
     },
     "output_extras": [
      {
       "item_id": 23
      },
      {
       "item_id": 48
      },
      {
       "item_id": 61
      }
     ]
    },
    "colab_type": "code",
    "collapsed": false,
    "executionInfo": {
     "elapsed": 436189,
     "status": "ok",
     "timestamp": 1445965429787,
     "user": {
      "color": "#1FA15D",
      "displayName": "Vincent Vanhoucke",
      "isAnonymous": false,
      "isMe": true,
      "permissionId": "05076109866853157986",
      "photoUrl": "//lh6.googleusercontent.com/-cCJa7dTDcgQ/AAAAAAAAAAI/AAAAAAAACgw/r2EZ_8oYer4/s50-c-k-no/photo.jpg",
      "sessionId": "2f1ffade4c9f20de",
      "userId": "102167687554210253930"
     },
     "user_tz": 420
    },
    "id": "1bQFGceBxrWW",
    "outputId": "5ebd6d9a-33c6-4bcd-bf6d-252b0b6055e4",
    "scrolled": false
   },
   "outputs": [
    {
     "name": "stdout",
     "output_type": "stream",
     "text": [
      "Initialized\n",
      "Average loss at step 0 : 7.89452981949\n",
      "Nearest to five: anthropologists, klang, mindstorms, solitaire, simmons, circumference, hanks, fled,\n",
      "Nearest to be: season, phoenix, robb, waterman, djbdns, eldest, shabbat, traveled,\n",
      "Nearest to two: attendances, mcculloch, lokasenna, alcaeus, overland, fiftieth, metropolitan, catalytic,\n",
      "Nearest to it: obfuscation, impression, gabor, caspase, meriwether, critics, acropolis, kosher,\n",
      "Nearest to states: jamal, feng, mathematica, augment, voluntary, xj, lizard, units,\n",
      "Nearest to if: shrouded, dining, microsite, heme, streets, sho, laodicea, revealing,\n",
      "Nearest to however: cor, resolute, starr, malenkov, inspiring, sanger, easy, nestorian,\n",
      "Nearest to these: tubules, blowout, einsatzgruppen, befall, abraxas, ohlin, aspired, csp,\n",
      "Nearest to were: maintained, calculated, gliders, transcending, affirm, cahn, jong, kanpur,\n",
      "Nearest to may: pierce, precede, mtv, corrupts, capacitance, susanna, query, luoyang,\n",
      "Nearest to united: cynical, humanism, venue, boulder, anatole, beti, skiing, mobs,\n",
      "Nearest to one: selim, forum, boasts, soteriology, kidnappings, encamped, landless, unrounded,\n",
      "Nearest to more: hexagram, kar, supplier, tropical, manasseh, truncated, funk, overboard,\n",
      "Nearest to this: flip, shema, arlo, topology, brisingamen, gastrointestinal, buch, ducts,\n",
      "Nearest to used: melanchthon, melton, adding, westwood, solid, molson, ruben, expressiveness,\n",
      "Nearest to been: refuses, myers, erotic, keeper, kuznetsov, leopoldo, entomology, vulpes,\n",
      "Average loss at step 2000 : 4.3611829282\n",
      "Average loss at step 4000 : 3.86257194674\n",
      "Average loss at step 6000 : 3.78268418229\n",
      "Average loss at step 8000 : 3.68441731682\n",
      "Average loss at step 10000 : 3.61703046548\n",
      "Nearest to five: six, eight, nine, three, four, seven, zero, two,\n",
      "Nearest to be: have, by, was, refer, been, is, robb, norepinephrine,\n",
      "Nearest to two: three, four, six, seven, five, one, nine, eight,\n",
      "Nearest to it: he, this, there, which, they, not, that, generally,\n",
      "Nearest to states: periods, supply, units, hyacinthus, evangelist, voluntary, lucien, systems,\n",
      "Nearest to if: all, microsite, shrouded, piles, knows, tetzel, sho, furioso,\n",
      "Nearest to however: lieutenant, malenkov, inspiring, resolute, easy, starr, cor, kabir,\n",
      "Nearest to these: tubules, other, blowout, all, outwards, several, rescues, literate,\n",
      "Nearest to were: are, was, being, is, undeniably, have, maintained, stabilizes,\n",
      "Nearest to may: can, would, ordaining, druze, slash, could, fluorine, will,\n",
      "Nearest to united: boulder, callous, hinge, venue, skiing, advancement, commune, navigating,\n",
      "Nearest to one: two, three, four, six, eight, seven, five, reservoirs,\n",
      "Nearest to more: secret, funk, historicity, spence, ramadan, kar, zimmerman, so,\n",
      "Nearest to this: it, the, which, apulia, grenoble, a, easternmost, enquiry,\n",
      "Nearest to used: melton, melanchthon, supposedly, adding, ruben, dermatology, politely, solid,\n",
      "Nearest to been: was, be, nazionale, coupon, viscous, mimicked, electron, by,\n",
      "Average loss at step 12000 : 3.60301379251\n",
      "Average loss at step 14000 : 3.56910845375\n",
      "Average loss at step 16000 : 3.40931285761\n",
      "Average loss at step 18000 : 3.45189064485\n",
      "Average loss at step 20000 : 3.53733358616\n",
      "Nearest to five: six, three, eight, four, seven, zero, two, nine,\n",
      "Nearest to be: refer, have, by, been, is, was, were, widely,\n",
      "Nearest to two: three, five, four, six, eight, one, seven, zero,\n",
      "Nearest to it: he, this, there, which, they, she, not, mend,\n",
      "Nearest to states: units, periods, hyacinthus, supply, systems, optimisation, afternoons, aise,\n",
      "Nearest to if: when, but, intersecting, microsite, that, revolutions, do, could,\n",
      "Nearest to however: but, malenkov, lieutenant, that, inspiring, mellor, there, resolute,\n",
      "Nearest to these: all, some, several, other, such, blowout, literate, many,\n",
      "Nearest to were: are, was, had, have, is, by, be, been,\n",
      "Nearest to may: can, would, will, could, should, might, ordaining, pva,\n",
      "Nearest to united: boulder, hinge, skiing, callous, same, venue, subsisting, commune,\n",
      "Nearest to one: two, four, three, eight, five, seven, six, nine,\n",
      "Nearest to more: less, most, secret, historicity, funk, ramadan, spence, very,\n",
      "Nearest to this: it, which, the, a, that, some, marmara, rabat,\n",
      "Nearest to used: supposedly, melanchthon, held, melton, adding, known, perceptive, kleist,\n",
      "Nearest to been: be, were, viscous, become, was, mimicked, ferrari, golgi,\n",
      "Average loss at step 22000 : 3.50094951212\n",
      "Average loss at step 24000 : 3.49331119257\n",
      "Average loss at step 26000 : 3.47817147321\n",
      "Average loss at step 28000 : 3.47972920936\n",
      "Average loss at step 30000 : 3.50073744111\n",
      "Nearest to five: four, eight, three, six, seven, nine, two, zero,\n",
      "Nearest to be: refer, is, been, have, widely, seek, produce, was,\n",
      "Nearest to two: four, three, five, one, seven, eight, six, zero,\n",
      "Nearest to it: he, this, there, she, they, which, also, generally,\n",
      "Nearest to states: supply, hyacinthus, afternoons, systems, periods, units, transplanted, aise,\n",
      "Nearest to if: when, but, while, revolutions, because, though, knows, intersecting,\n",
      "Nearest to however: but, although, that, lieutenant, while, inspiring, there, and,\n",
      "Nearest to these: some, many, all, several, such, other, their, those,\n",
      "Nearest to were: are, was, had, have, been, those, is, being,\n",
      "Nearest to may: can, would, could, will, must, should, might, pva,\n",
      "Nearest to united: boulder, hinge, callous, commune, skiing, same, murakami, following,\n",
      "Nearest to one: two, seven, three, four, eight, five, six, nine,\n",
      "Nearest to more: less, most, very, so, robbins, secret, spence, adoptive,\n",
      "Nearest to this: it, which, that, there, what, sint, itself, suede,\n",
      "Nearest to used: known, held, written, melanchthon, supposedly, politely, melton, required,\n",
      "Nearest to been: become, were, be, was, ferrari, tetrachloride, assumed, had,\n",
      "Average loss at step 32000 : 3.50186637735\n",
      "Average loss at step 34000 : 3.49407421666\n",
      "Average loss at step 36000 : 3.45166496646\n",
      "Average loss at step 38000 : 3.29843063709\n",
      "Average loss at step 40000 : 3.42582273817\n",
      "Nearest to five: seven, six, three, four, eight, zero, nine, two,\n",
      "Nearest to be: refer, been, have, are, is, become, was, were,\n",
      "Nearest to two: four, three, seven, five, six, one, eight, nine,\n",
      "Nearest to it: he, there, she, this, they, which, but, that,\n",
      "Nearest to states: countries, nations, kingdom, hyacinthus, afternoons, vorarlberg, mathematik, supply,\n",
      "Nearest to if: when, while, where, before, because, for, initiator, that,\n",
      "Nearest to however: but, although, prem, that, while, impulse, beyond, habsburg,\n",
      "Nearest to these: many, some, several, such, all, their, entablature, they,\n",
      "Nearest to were: are, have, was, had, those, misdemeanors, been, being,\n",
      "Nearest to may: can, would, could, will, must, should, might, cannot,\n",
      "Nearest to united: boulder, skiing, murakami, callous, commune, hinge, subsisting, same,\n",
      "Nearest to one: two, seven, eight, four, three, nine, six, five,\n",
      "Nearest to more: less, very, most, robbins, so, better, bestial, prevalent,\n",
      "Nearest to this: which, it, the, that, spooner, buddhas, minnesota, some,\n",
      "Nearest to used: known, held, found, referred, required, written, said, employed,\n",
      "Nearest to been: become, be, had, were, was, nimzowitsch, popularly, assumed,\n",
      "Average loss at step 42000 : 3.4335787403\n",
      "Average loss at step 44000 : 3.45386662853\n",
      "Average loss at step 46000 : 3.45264422154\n",
      "Average loss at step 48000 : 3.34660350513\n",
      "Average loss at step 50000 : 3.38635387027\n",
      "Nearest to five: six, four, seven, three, eight, zero, nine, two,\n",
      "Nearest to be: refer, have, been, was, become, are, is, were,\n",
      "Nearest to two: three, one, four, six, five, eight, seven, nine,\n",
      "Nearest to it: he, there, she, this, they, still, sint, eventually,\n",
      "Nearest to states: kingdom, nations, hyacinthus, paraphrase, transplanted, jurisprudence, afternoons, vorarlberg,\n",
      "Nearest to if: when, while, where, though, before, since, shaftesbury, that,\n",
      "Nearest to however: but, although, that, while, though, when, gagauz, fondly,\n",
      "Nearest to these: many, some, several, both, such, those, entablature, there,\n",
      "Nearest to were: are, was, have, had, those, been, be, being,\n",
      "Nearest to may: can, would, will, could, must, should, might, cannot,\n",
      "Nearest to united: boulder, skiing, commune, callous, murakami, same, southern, caspian,\n",
      "Nearest to one: two, eight, six, seven, four, five, three, nine,\n",
      "Nearest to more: less, most, very, longer, better, inductors, bestial, prevalent,\n",
      "Nearest to this: which, it, the, what, there, that, spooner, he,\n",
      "Nearest to used: known, held, referred, written, required, found, able, available,\n",
      "Nearest to been: become, be, were, was, popularly, had, tetrachloride, ferrari,\n",
      "Average loss at step 52000 : 3.43366268975\n",
      "Average loss at step 54000 : 3.42706175697\n",
      "Average loss at step 56000 : 3.44331842792\n",
      "Average loss at step 58000 : 3.39637665367\n",
      "Average loss at step 60000 : 3.3896824756\n",
      "Nearest to five: six, four, three, eight, seven, nine, zero, two,\n",
      "Nearest to be: been, refer, was, have, become, are, were, produce,\n",
      "Nearest to two: three, four, five, one, six, seven, eight, zero,\n",
      "Nearest to it: he, there, she, this, which, they, that, still,\n",
      "Nearest to states: nations, kingdom, countries, afternoons, paraphrase, units, transplanted, hyacinthus,\n",
      "Nearest to if: when, though, where, before, since, while, although, because,\n",
      "Nearest to however: but, although, that, though, when, gagauz, prem, following,\n",
      "Nearest to these: many, several, some, those, both, such, all, they,\n",
      "Nearest to were: are, was, had, have, misdemeanors, been, be, including,\n",
      "Nearest to may: can, would, will, could, must, should, might, cannot,\n",
      "Nearest to united: boulder, skiing, commune, callous, murakami, same, southern, caspian,\n",
      "Nearest to one: two, eight, four, seven, six, three, nine, five,\n",
      "Nearest to more: less, most, very, better, longer, larger, rather, greater,\n",
      "Nearest to this: which, it, that, there, some, spooner, the, what,\n",
      "Nearest to used: known, held, written, referred, called, required, considered, employed,\n",
      "Nearest to been: become, be, were, was, had, generalize, popularly, suffered,\n",
      "Average loss at step 62000 : 3.24594467652\n",
      "Average loss at step 64000 : 3.2578667748\n",
      "Average loss at step 66000 : 3.40579475218\n",
      "Average loss at step 68000 : 3.39694827622\n",
      "Average loss at step 70000 : 3.35608597618\n",
      "Nearest to five: four, six, three, seven, eight, zero, nine, two,\n",
      "Nearest to be: been, refer, is, become, were, being, are, explain,\n",
      "Nearest to two: three, six, four, seven, five, one, eight, zero,\n",
      "Nearest to it: he, there, she, this, they, still, sint, eventually,\n",
      "Nearest to states: kingdom, nations, countries, afternoons, state, paraphrase, tremblay, hyacinthus,\n",
      "Nearest to if: when, though, before, while, where, because, although, since,\n",
      "Nearest to however: but, although, though, that, while, when, since, which,\n",
      "Nearest to these: many, such, some, several, those, entablature, their, the,\n",
      "Nearest to were: are, was, have, had, be, been, those, ericsson,\n",
      "Nearest to may: can, would, could, will, must, might, should, cannot,\n",
      "Nearest to united: boulder, commune, skiing, murakami, callous, caspian, same, agrippina,\n",
      "Nearest to one: six, two, seven, four, eight, three, five, nine,\n",
      "Nearest to more: less, most, very, better, quite, longer, rather, larger,\n",
      "Nearest to this: which, it, that, the, there, another, some, itself,\n",
      "Nearest to used: known, required, available, written, held, referred, employed, considered,\n",
      "Nearest to been: become, be, were, was, recently, generalize, popularly, had,\n",
      "Average loss at step 72000 : 3.37316315091\n",
      "Average loss at step 74000 : 3.34620061015\n",
      "Average loss at step 76000 : 3.31343851852\n",
      "Average loss at step 78000 : 3.3546790539\n",
      "Average loss at step 80000 : 3.3779592948\n",
      "Nearest to five: four, six, seven, eight, three, nine, zero, two,\n",
      "Nearest to be: been, refer, have, being, become, was, produce, were,\n",
      "Nearest to two: three, four, six, five, seven, one, eight, zero,\n",
      "Nearest to it: he, she, there, this, they, itself, we, still,\n",
      "Nearest to states: kingdom, nations, afternoons, state, countries, hyacinthus, transplanted, paraphrase,\n",
      "Nearest to if: when, though, since, before, whether, because, where, did,\n",
      "Nearest to however: but, although, that, while, though, when, fondly, disputed,\n",
      "Nearest to these: several, those, many, such, some, various, both, they,\n",
      "Nearest to were: are, had, have, was, been, those, became, be,\n",
      "Nearest to may: can, could, would, must, will, might, should, cannot,\n",
      "Nearest to united: murakami, boulder, commune, same, callous, caspian, constitution, skiing,\n",
      "Nearest to one: six, seven, two, eight, four, three, five, nine,\n",
      "Nearest to more: less, most, very, quite, larger, rather, longer, stronger,\n",
      "Nearest to this: which, it, itself, what, another, spooner, the, some,\n",
      "Nearest to used: known, required, written, held, referred, available, considered, defined,\n",
      "Nearest to been: become, be, was, were, recently, already, popularly, generalize,\n",
      "Average loss at step 82000 : 3.41049842608\n",
      "Average loss at step 84000 : 3.40944064844\n",
      "Average loss at step 86000 : 3.38975155288\n",
      "Average loss at step 88000 : 3.35476587927\n",
      "Average loss at step 90000 : 3.36086274719\n",
      "Nearest to five: four, eight, six, seven, three, nine, zero, two,\n",
      "Nearest to be: been, refer, become, was, being, have, explain, lead,\n",
      "Nearest to two: three, four, six, five, seven, eight, one, nine,\n",
      "Nearest to it: he, she, there, they, this, itself, grill, still,\n",
      "Nearest to states: kingdom, nations, economies, transplanted, afternoons, hyacinthus, countries, paraphrase,\n",
      "Nearest to if: when, though, since, where, after, before, requires, wa,\n",
      "Nearest to however: but, although, that, though, while, since, spurred, delete,\n",
      "Nearest to these: many, several, some, those, such, both, are, various,\n",
      "Nearest to were: are, had, was, have, while, those, cutter, tend,\n",
      "Nearest to may: can, could, might, must, would, will, should, cannot,\n",
      "Nearest to united: commune, murakami, constitution, boulder, same, callous, skiing, caspian,\n",
      "Nearest to one: seven, four, two, eight, six, three, five, nine,\n",
      "Nearest to more: less, very, most, rather, better, quite, faster, longer,\n",
      "Nearest to this: it, which, the, another, some, any, itself, there,\n",
      "Nearest to used: known, written, referred, considered, required, held, available, employed,\n",
      "Nearest to been: become, be, was, already, recently, popularly, generalize, were,\n",
      "Average loss at step 92000 : 3.39884906024\n",
      "Average loss at step 94000 : 3.25211285803\n",
      "Average loss at step 96000 : 3.36162119508\n",
      "Average loss at step 98000 : 3.23605373101\n",
      "Average loss at step 100000 : 3.35722280496\n",
      "Nearest to five: seven, four, six, eight, three, nine, zero, two,\n",
      "Nearest to be: been, refer, being, become, is, easily, have, are,\n",
      "Nearest to two: four, three, five, six, seven, eight, one, zero,\n",
      "Nearest to it: he, she, this, there, they, excitation, never, itself,\n",
      "Nearest to states: kingdom, nations, countries, hyacinthus, economies, state, afternoons, transplanted,\n",
      "Nearest to if: when, though, where, before, since, whether, after, because,\n",
      "Nearest to however: but, although, that, though, while, where, and, disputed,\n",
      "Nearest to these: several, many, some, those, various, multiple, both, such,\n",
      "Nearest to were: are, have, had, was, these, those, although, cutter,\n",
      "Nearest to may: can, could, should, must, might, would, will, cannot,\n",
      "Nearest to united: boulder, commune, murakami, same, constitution, caspian, lovable, epic,\n",
      "Nearest to one: two, four, seven, five, eight, nine, six, three,\n",
      "Nearest to more: less, most, very, better, quite, faster, stronger, rather,\n",
      "Nearest to this: which, it, itself, the, what, another, there, allowable,\n",
      "Nearest to used: referred, written, known, held, considered, required, designed, available,\n",
      "Nearest to been: become, be, already, was, recently, nazionale, generalize, successfully,\n"
     ]
    }
   ],
   "source": [
    "num_steps = 100001\n",
    "\n",
    "with tf.Session(graph=graph) as session:\n",
    "  tf.initialize_all_variables().run()\n",
    "  print \"Initialized\"\n",
    "  average_loss = 0\n",
    "  for step in xrange(num_steps):\n",
    "    batch_data, batch_labels = generate_batch(\n",
    "      batch_size, num_skips, skip_window)\n",
    "    feed_dict = {train_dataset : batch_data, train_labels : batch_labels}\n",
    "    _, l = session.run([optimizer, loss], feed_dict=feed_dict)\n",
    "    average_loss += l\n",
    "    if step % 2000 == 0:\n",
    "      if step > 0:\n",
    "        average_loss = average_loss / 2000\n",
    "      # The average loss is an estimate of the loss over the last 2000 batches.\n",
    "      print \"Average loss at step\", step, \":\", average_loss\n",
    "      average_loss = 0\n",
    "    # note that this is expensive (~20% slowdown if computed every 500 steps)\n",
    "    if step % 10000 == 0:\n",
    "      sim = similarity.eval()\n",
    "      for i in xrange(valid_size):\n",
    "        valid_word = reverse_dictionary[valid_examples[i]]\n",
    "        top_k = 8 # number of nearest neighbors\n",
    "        nearest = (-sim[i, :]).argsort()[1:top_k+1]\n",
    "        log = \"Nearest to %s:\" % valid_word\n",
    "        for k in xrange(top_k):\n",
    "          close_word = reverse_dictionary[nearest[k]]\n",
    "          log = \"%s %s,\" % (log, close_word)\n",
    "        print log\n",
    "  final_embeddings = normalized_embeddings.eval()"
   ]
  },
  {
   "cell_type": "code",
   "execution_count": 8,
   "metadata": {
    "cellView": "both",
    "colab": {
     "autoexec": {
      "startup": false,
      "wait_interval": 0
     }
    },
    "colab_type": "code",
    "collapsed": true,
    "id": "jjJXYA_XzV79"
   },
   "outputs": [],
   "source": [
    "num_points = 400\n",
    "\n",
    "tsne = TSNE(perplexity=30, n_components=2, init='pca', n_iter=5000)\n",
    "two_d_embeddings = tsne.fit_transform(final_embeddings[1:num_points+1, :])"
   ]
  },
  {
   "cell_type": "code",
   "execution_count": 9,
   "metadata": {
    "cellView": "both",
    "colab": {
     "autoexec": {
      "startup": false,
      "wait_interval": 0
     },
     "output_extras": [
      {
       "item_id": 1
      }
     ]
    },
    "colab_type": "code",
    "collapsed": false,
    "executionInfo": {
     "elapsed": 4763,
     "status": "ok",
     "timestamp": 1445965465525,
     "user": {
      "color": "#1FA15D",
      "displayName": "Vincent Vanhoucke",
      "isAnonymous": false,
      "isMe": true,
      "permissionId": "05076109866853157986",
      "photoUrl": "//lh6.googleusercontent.com/-cCJa7dTDcgQ/AAAAAAAAAAI/AAAAAAAACgw/r2EZ_8oYer4/s50-c-k-no/photo.jpg",
      "sessionId": "2f1ffade4c9f20de",
      "userId": "102167687554210253930"
     },
     "user_tz": 420
    },
    "id": "o_e0D_UezcDe",
    "outputId": "df22e4a5-e8ec-4e5e-d384-c6cf37c68c34"
   },
   "outputs": [],
   "source": [
    "def plot(embeddings, labels):\n",
    "  assert embeddings.shape[0] >= len(labels), 'More labels than embeddings'\n",
    "  pylab.figure(figsize=(15,15))  # in inches\n",
    "  for i, label in enumerate(labels):\n",
    "    x, y = embeddings[i,:]\n",
    "    pylab.scatter(x, y)\n",
    "    pylab.annotate(label, xy=(x, y), xytext=(5, 2), textcoords='offset points',\n",
    "                   ha='right', va='bottom')\n",
    "  pylab.show()\n",
    "\n",
    "words = [reverse_dictionary[i] for i in xrange(1, num_points+1)]\n",
    "plot(two_d_embeddings, words)"
   ]
  },
  {
   "cell_type": "markdown",
   "metadata": {
    "colab_type": "text",
    "id": "QB5EFrBnpNnc"
   },
   "source": [
    "---\n",
    "\n",
    "Problem\n",
    "-------\n",
    "\n",
    "An alternative to Word2Vec is called [CBOW](http://arxiv.org/abs/1301.3781) (Continuous Bag of Words). In the CBOW model, instead of predicting a context word from a word vector, you predict a word from the sum of all the word vectors in its context. Implement and evaluate a CBOW model trained on the text8 dataset.\n",
    "\n",
    "---"
   ]
  },
  {
   "cell_type": "code",
   "execution_count": 33,
   "metadata": {
    "collapsed": false
   },
   "outputs": [
    {
     "name": "stdout",
     "output_type": "stream",
     "text": [
      "5239 -> 3084\n",
      "anarchism -> originated\n",
      "3084 -> 3084\n",
      "originated -> originated\n",
      "3084 -> 12\n",
      "originated -> as\n",
      "12 -> 12\n",
      "as -> as\n",
      "12 -> 6\n",
      "as -> a\n",
      "6 -> 6\n",
      "a -> a\n",
      "6 -> 195\n",
      "a -> term\n",
      "195 -> 195\n",
      "term -> term\n"
     ]
    }
   ],
   "source": [
    "data_index = 0\n",
    "\n",
    "# Reverse output of generate_batch\n",
    "# Roll up examples within batch later\n",
    "def generate_batch(batch_size, num_skips, skip_window):\n",
    "  global data_index\n",
    "  assert batch_size % num_skips == 0\n",
    "  assert num_skips <= 2 * skip_window\n",
    "  batch = np.ndarray(shape=(batch_size), dtype=np.int32)\n",
    "  labels = np.ndarray(shape=(batch_size, 1), dtype=np.int32)\n",
    "  span = 2 * skip_window + 1 # [ skip_window target skip_window ]\n",
    "  buffer = collections.deque(maxlen=span)\n",
    "  for _ in range(span):\n",
    "    buffer.append(data[data_index])\n",
    "    data_index = (data_index + 1) % len(data)\n",
    "  for i in range(batch_size / num_skips):\n",
    "    target = skip_window  # target label at the center of the buffer\n",
    "    for j in range(span):\n",
    "      if j == skip_window:\n",
    "        continue\n",
    "      if j > skip_window:\n",
    "        j -= 1\n",
    "      batch[i * num_skips + j] = buffer[j]\n",
    "      labels[i * num_skips + j, 0] = buffer[target]\n",
    "    buffer.append(data[data_index])\n",
    "    data_index = (data_index + 1) % len(data)\n",
    "  return batch, labels\n",
    "\n",
    "batch, labels = generate_batch(batch_size=8, num_skips=2, skip_window=1)\n",
    "for i in range(8):\n",
    "  print batch[i], '->', labels[i, 0]\n",
    "  print reverse_dictionary[batch[i]], '->', reverse_dictionary[labels[i, 0]]"
   ]
  },
  {
   "cell_type": "code",
   "execution_count": 87,
   "metadata": {
    "collapsed": false
   },
   "outputs": [],
   "source": [
    "batch_size = 128 # batch size is really 1 / context_size of this in CBOW\n",
    "embedding_size = 128 # Dimension of the embedding vector.\n",
    "skip_window = 1 # How many words to consider left and right.\n",
    "num_skips = 2 # How many times to reuse an input to generate a label.\n",
    "# We pick a random validation set to sample nearest neighbors. here we limit the\n",
    "# validation samples to the words that have a low numeric ID, which by\n",
    "# construction are also the most frequent. \n",
    "valid_size = 16 # Random set of words to evaluate similarity on.\n",
    "valid_window = 100 # Only pick dev samples in the head of the distribution.\n",
    "valid_examples = np.array(random.sample(xrange(valid_window), valid_size))\n",
    "num_sampled = 64 # Number of negative examples to sample.\n",
    "context_size = skip_window * 2\n",
    "\n",
    "graph = tf.Graph()\n",
    "\n",
    "with graph.as_default():\n",
    "\n",
    "  # Input data.\n",
    "  train_dataset = tf.placeholder(tf.int32, shape=[batch_size / context_size, context_size], name=\"X\")\n",
    "  train_labels = tf.placeholder(tf.int32, shape=[batch_size / context_size, 1], name=\"y\")\n",
    "  valid_dataset = tf.constant(valid_examples, dtype=tf.int32)\n",
    "  \n",
    "  # Variables.\n",
    "  embeddings = tf.Variable(\n",
    "    tf.random_uniform([vocabulary_size, embedding_size], -1.0, 1.0), \"W\")\n",
    "  softmax_weights = tf.Variable(\n",
    "    tf.truncated_normal([vocabulary_size, embedding_size],\n",
    "                         stddev=1.0 / math.sqrt(embedding_size)), \"W'\")\n",
    "  softmax_biases = tf.Variable(tf.zeros([vocabulary_size]), \"b\")\n",
    "  \n",
    "  # Model.\n",
    "  # Look up embeddings for inputs.\n",
    "  # Average CBOW embeddings\n",
    "  lookup = tf.nn.embedding_lookup([embeddings] * context_size, train_dataset, name=\"embed\")\n",
    "  embed = tf.reduce_sum(lookup, 1)\n",
    "  # Compute the softmax loss, using a sample of the negative labels each time.\n",
    "  loss = tf.reduce_mean(\n",
    "    tf.nn.sampled_softmax_loss(softmax_weights, softmax_biases, embed,\n",
    "                               train_labels, num_sampled, vocabulary_size))\n",
    "\n",
    "  # Optimizer.\n",
    "  optimizer = tf.train.AdagradOptimizer(1.0).minimize(loss)\n",
    "  \n",
    "  # Compute the similarity between minibatch examples and all embeddings.\n",
    "  # We use the cosine distance:\n",
    "  norm = tf.sqrt(tf.reduce_sum(tf.square(embeddings), 1, keep_dims=True))\n",
    "  normalized_embeddings = embeddings / norm\n",
    "  valid_embeddings = tf.nn.embedding_lookup(\n",
    "    normalized_embeddings, valid_dataset)\n",
    "  similarity = tf.matmul(valid_embeddings, tf.transpose(normalized_embeddings))"
   ]
  },
  {
   "cell_type": "code",
   "execution_count": 90,
   "metadata": {
    "collapsed": false
   },
   "outputs": [
    {
     "name": "stdout",
     "output_type": "stream",
     "text": [
      "Initialized\n",
      "Average loss at step 0 : 7.53962373734\n",
      "Nearest to while: newsstand, masturbating, theropod, gutman, im, jain, fibre, tricolour,\n",
      "Nearest to s: courtship, dispersed, remake, occultist, false, pins, berliners, onboard,\n",
      "Nearest to is: pulitzer, hadiths, excise, racial, diffusion, concomitant, tegmark, adding,\n",
      "Nearest to war: drawings, degenerated, kerensky, narrowed, combinatorics, pluralized, eastbound, homeostatic,\n",
      "Nearest to on: maidstone, inquire, inadvertently, reflections, haired, epistle, plots, hezbollah,\n",
      "Nearest to i: extend, ifrcs, notary, disproportionately, thunderbird, phosphorylation, grandmasters, chemists,\n",
      "Nearest to new: zoologists, braxton, literature, hindsight, conglomeration, piece, delaying, zu,\n",
      "Nearest to such: ishiro, veer, hole, icing, loops, juries, macross, widens,\n",
      "Nearest to five: ksc, ntfs, interstitial, corsair, femininity, appropriateness, oau, opinions,\n",
      "Nearest to more: pablo, afars, share, fao, commuter, shia, ligase, unguided,\n",
      "Nearest to eight: cms, arb, consumers, proves, mujahedin, adamantium, soliloquy, diffraction,\n",
      "Nearest to called: ridicule, hsu, impulsive, ku, carbide, bryozoa, farthest, shank,\n",
      "Nearest to zero: shatz, pee, nanjing, impartial, skin, ctbt, invasive, mimicked,\n",
      "Nearest to system: draped, lm, lillehammer, slaying, peres, lifestyle, itu, iib,\n",
      "Nearest to this: lafayette, chimpanzees, mut, bark, canals, blindness, functionally, agriculture,\n",
      "Nearest to may: oral, thaddeus, hemphill, nicholls, above, cisc, chengdu, unhappy,\n",
      "Average loss at step 2000 : 1.33793518809\n",
      "Average loss at step 4000 : 0.720272178218\n",
      "Average loss at step 6000 : 0.58778385061\n",
      "Average loss at step 8000 : 0.532517894369\n",
      "Average loss at step 10000 : 0.472226948257\n",
      "Nearest to while: tricolour, convinces, arranged, newsstand, masturbating, im, peikoff, multiculturalism,\n",
      "Nearest to s: vocalist, stockhausen, remake, stoics, contacting, tore, appearances, ha,\n",
      "Nearest to is: galeon, intercal, resembled, dots, mithraism, bodleian, solution, tabulating,\n",
      "Nearest to war: degenerated, eastbound, seleucids, homeostatic, drawings, barring, scot, kerensky,\n",
      "Nearest to on: maidstone, haired, abdominal, foundry, instrumental, oaks, tasmanian, jahn,\n",
      "Nearest to i: partnership, ifrcs, nazareth, phosphorylation, hotly, sniper, layouts, grandmasters,\n",
      "Nearest to new: brochure, zoologists, piece, foosball, telford, planet, naismith, thrax,\n",
      "Nearest to such: veer, simd, widens, ishiro, conjugation, technocracy, programmability, hole,\n",
      "Nearest to five: andorra, ntfs, femininity, condemn, push, jimmie, oau, patterson,\n",
      "Nearest to more: commuter, afars, unguided, pablo, fao, term, zhou, share,\n",
      "Nearest to eight: cushitic, rcc, sleeper, arb, sediments, foretold, exploit, contained,\n",
      "Nearest to called: ridicule, hsu, spice, technology, circulating, signatory, riffs, est,\n",
      "Nearest to zero: jure, combinations, aural, invasive, candles, aromatic, compactification, hamsun,\n",
      "Nearest to system: lm, lillehammer, assassinate, draped, peres, absolutely, iib, drm,\n",
      "Nearest to this: lafayette, mut, qoheleth, chimpanzees, mervyn, artifacts, encoders, amusing,\n",
      "Nearest to may: oral, members, chengdu, hemphill, unhappy, nicholls, stonewall, thaddeus,\n",
      "Average loss at step 12000 : 0.469894693375\n",
      "Average loss at step 14000 : 0.425933241481\n",
      "Average loss at step 16000 : 0.388254815806\n",
      "Average loss at step 18000 : 0.362088774089\n",
      "Average loss at step 20000 : 0.365317573447\n",
      "Nearest to while: convinces, tricolour, way, newsstand, arranged, im, masturbating, fibre,\n",
      "Nearest to s: contacting, vocalist, developments, tore, stockhausen, cancels, pleasures, indirect,\n",
      "Nearest to is: tswana, ferrer, galeon, attainment, solution, adl, bodleian, bethany,\n",
      "Nearest to war: prev, degenerated, eastbound, wisest, linnaean, drawings, cryptozoology, locomotives,\n",
      "Nearest to on: oaks, maidstone, haired, klansmen, instrumental, adapting, inform, abdominal,\n",
      "Nearest to i: ifrcs, sniper, chemists, hotly, phosphorylation, nazareth, probe, centered,\n",
      "Nearest to new: piece, luz, pleases, zoologists, naismith, tursiops, telford, brochure,\n",
      "Nearest to such: widens, veer, simd, technocracy, ishiro, assistance, conjugation, loops,\n",
      "Nearest to five: andorra, maltose, oau, condemn, genosha, push, kc, jamaicans,\n",
      "Nearest to more: commuter, pablo, unguided, puddle, term, ontogeny, filking, fao,\n",
      "Nearest to eight: henriques, rcc, caesarion, diffraction, exploit, sleeper, contained, outsold,\n",
      "Nearest to called: technology, ridicule, hsu, siemens, spice, foreign, signatory, circulating,\n",
      "Nearest to zero: jure, imposing, pogrom, fierro, napkin, combinations, arcadia, steiner,\n",
      "Nearest to system: lillehammer, lm, absolutely, draped, assassinate, peres, slaying, boomerangs,\n",
      "Nearest to this: qoheleth, encoders, assessment, mut, chandrasekhar, measurable, chimpanzees, agriculture,\n",
      "Nearest to may: oral, members, thaddeus, unhappy, hemphill, chengdu, stonewall, nicholls,\n",
      "Average loss at step 22000 : 0.345148838\n",
      "Average loss at step 24000 : 0.357946807357\n"
     ]
    },
    {
     "ename": "KeyboardInterrupt",
     "evalue": "",
     "output_type": "error",
     "traceback": [
      "\u001b[0;31m---------------------------------------------------------------------------\u001b[0m",
      "\u001b[0;31mKeyboardInterrupt\u001b[0m                         Traceback (most recent call last)",
      "\u001b[0;32m<ipython-input-90-02d024ca0c6e>\u001b[0m in \u001b[0;36m<module>\u001b[0;34m()\u001b[0m\n\u001b[1;32m     15\u001b[0m     \u001b[0mbatch_labels\u001b[0m \u001b[0;34m=\u001b[0m \u001b[0mbatch_labels\u001b[0m\u001b[0;34m[\u001b[0m\u001b[0;34m:\u001b[0m\u001b[0;34m:\u001b[0m\u001b[0mcontext_size\u001b[0m\u001b[0;34m]\u001b[0m\u001b[0;34m\u001b[0m\u001b[0m\n\u001b[1;32m     16\u001b[0m     \u001b[0mfeed_dict\u001b[0m \u001b[0;34m=\u001b[0m \u001b[0;34m{\u001b[0m\u001b[0mtrain_dataset\u001b[0m \u001b[0;34m:\u001b[0m \u001b[0mbatch_data\u001b[0m\u001b[0;34m,\u001b[0m \u001b[0mtrain_labels\u001b[0m \u001b[0;34m:\u001b[0m \u001b[0mbatch_labels\u001b[0m\u001b[0;34m}\u001b[0m\u001b[0;34m\u001b[0m\u001b[0m\n\u001b[0;32m---> 17\u001b[0;31m     \u001b[0m_\u001b[0m\u001b[0;34m,\u001b[0m \u001b[0ml\u001b[0m \u001b[0;34m=\u001b[0m \u001b[0msession\u001b[0m\u001b[0;34m.\u001b[0m\u001b[0mrun\u001b[0m\u001b[0;34m(\u001b[0m\u001b[0;34m[\u001b[0m\u001b[0moptimizer\u001b[0m\u001b[0;34m,\u001b[0m \u001b[0mloss\u001b[0m\u001b[0;34m]\u001b[0m\u001b[0;34m,\u001b[0m \u001b[0mfeed_dict\u001b[0m\u001b[0;34m=\u001b[0m\u001b[0mfeed_dict\u001b[0m\u001b[0;34m)\u001b[0m\u001b[0;34m\u001b[0m\u001b[0m\n\u001b[0m\u001b[1;32m     18\u001b[0m     \u001b[0maverage_loss\u001b[0m \u001b[0;34m+=\u001b[0m \u001b[0ml\u001b[0m\u001b[0;34m\u001b[0m\u001b[0m\n\u001b[1;32m     19\u001b[0m     \u001b[0;32mif\u001b[0m \u001b[0mstep\u001b[0m \u001b[0;34m%\u001b[0m \u001b[0;36m2000\u001b[0m \u001b[0;34m==\u001b[0m \u001b[0;36m0\u001b[0m\u001b[0;34m:\u001b[0m\u001b[0;34m\u001b[0m\u001b[0m\n",
      "\u001b[0;32m/usr/local/lib/python2.7/site-packages/tensorflow/python/client/session.pyc\u001b[0m in \u001b[0;36mrun\u001b[0;34m(self, fetches, feed_dict)\u001b[0m\n\u001b[1;32m    366\u001b[0m \u001b[0;34m\u001b[0m\u001b[0m\n\u001b[1;32m    367\u001b[0m     \u001b[0;31m# Run request and get response.\u001b[0m\u001b[0;34m\u001b[0m\u001b[0;34m\u001b[0m\u001b[0m\n\u001b[0;32m--> 368\u001b[0;31m     \u001b[0mresults\u001b[0m \u001b[0;34m=\u001b[0m \u001b[0mself\u001b[0m\u001b[0;34m.\u001b[0m\u001b[0m_do_run\u001b[0m\u001b[0;34m(\u001b[0m\u001b[0mtarget_list\u001b[0m\u001b[0;34m,\u001b[0m \u001b[0munique_fetch_targets\u001b[0m\u001b[0;34m,\u001b[0m \u001b[0mfeed_dict_string\u001b[0m\u001b[0;34m)\u001b[0m\u001b[0;34m\u001b[0m\u001b[0m\n\u001b[0m\u001b[1;32m    369\u001b[0m \u001b[0;34m\u001b[0m\u001b[0m\n\u001b[1;32m    370\u001b[0m     \u001b[0;31m# User may have fetched the same tensor multiple times, but we\u001b[0m\u001b[0;34m\u001b[0m\u001b[0;34m\u001b[0m\u001b[0m\n",
      "\u001b[0;32m/usr/local/lib/python2.7/site-packages/tensorflow/python/client/session.pyc\u001b[0m in \u001b[0;36m_do_run\u001b[0;34m(self, target_list, fetch_list, feed_dict)\u001b[0m\n\u001b[1;32m    426\u001b[0m \u001b[0;34m\u001b[0m\u001b[0m\n\u001b[1;32m    427\u001b[0m       return tf_session.TF_Run(self._session, feed_dict, fetch_list,\n\u001b[0;32m--> 428\u001b[0;31m                                target_list)\n\u001b[0m\u001b[1;32m    429\u001b[0m \u001b[0;34m\u001b[0m\u001b[0m\n\u001b[1;32m    430\u001b[0m     \u001b[0;32mexcept\u001b[0m \u001b[0mtf_session\u001b[0m\u001b[0;34m.\u001b[0m\u001b[0mStatusNotOK\u001b[0m \u001b[0;32mas\u001b[0m \u001b[0me\u001b[0m\u001b[0;34m:\u001b[0m\u001b[0;34m\u001b[0m\u001b[0m\n",
      "\u001b[0;31mKeyboardInterrupt\u001b[0m: "
     ]
    }
   ],
   "source": [
    "num_steps = 100001\n",
    "\n",
    "with tf.Session(graph=graph) as session:\n",
    "  merged = tf.merge_all_summaries()\n",
    "  writer = tf.train.SummaryWriter(\"/tmp/mnist_logs\", session.graph_def)\n",
    "  tf.initialize_all_variables().run()\n",
    "\n",
    "  print \"Initialized\"\n",
    "  average_loss = 0\n",
    "  for step in xrange(num_steps):\n",
    "    batch_data, batch_labels = generate_batch(\n",
    "      batch_size, num_skips, skip_window)\n",
    "    # convert into CBOW batches\n",
    "    batch_data = batch_data.reshape(-1, context_size)\n",
    "    batch_labels = batch_labels[::context_size]\n",
    "    feed_dict = {train_dataset : batch_data, train_labels : batch_labels}\n",
    "    _, l = session.run([optimizer, loss], feed_dict=feed_dict)\n",
    "    average_loss += l\n",
    "    if step % 2000 == 0:\n",
    "      if step > 0:\n",
    "        average_loss = average_loss / 2000\n",
    "      # The average loss is an estimate of the loss over the last 2000 batches.\n",
    "      print \"Average loss at step\", step, \":\", average_loss\n",
    "      average_loss = 0\n",
    "    # note that this is expensive (~20% slowdown if computed every 500 steps)\n",
    "    if step % 10000 == 0:\n",
    "      sim = similarity.eval()\n",
    "      for i in xrange(valid_size):\n",
    "        valid_word = reverse_dictionary[valid_examples[i]]\n",
    "        top_k = 8 # number of nearest neighbors\n",
    "        nearest = (-sim[i, :]).argsort()[1:top_k+1]\n",
    "        log = \"Nearest to %s:\" % valid_word\n",
    "        for k in xrange(top_k):\n",
    "          close_word = reverse_dictionary[nearest[k]]\n",
    "          log = \"%s %s,\" % (log, close_word)\n",
    "        print log\n",
    "  final_embeddings = normalized_embeddings.eval()"
   ]
  },
  {
   "cell_type": "code",
   "execution_count": 49,
   "metadata": {
    "collapsed": true
   },
   "outputs": [],
   "source": [
    "num_points = 400\n",
    "\n",
    "tsne = TSNE(perplexity=30, n_components=2, init='pca', n_iter=5000)\n",
    "two_d_embeddings = tsne.fit_transform(final_embeddings[1:num_points+1, :])\n",
    "\n",
    "def plot(embeddings, labels):\n",
    "  assert embeddings.shape[0] >= len(labels), 'More labels than embeddings'\n",
    "  pylab.figure(figsize=(15,15))  # in inches\n",
    "  for i, label in enumerate(labels):\n",
    "    x, y = embeddings[i,:]\n",
    "    pylab.scatter(x, y)\n",
    "    pylab.annotate(label, xy=(x, y), xytext=(5, 2), textcoords='offset points',\n",
    "                   ha='right', va='bottom')\n",
    "  pylab.show()\n",
    "\n",
    "words = [reverse_dictionary[i] for i in xrange(1, num_points+1)]\n",
    "plot(two_d_embeddings, words)"
   ]
  }
 ],
 "metadata": {
  "colab": {
   "default_view": {},
   "name": "5_word2vec.ipynb",
   "version": "0.3.2",
   "views": {}
  },
  "kernelspec": {
   "display_name": "Python 2",
   "language": "python",
   "name": "python2"
  },
  "language_info": {
   "codemirror_mode": {
    "name": "ipython",
    "version": 2
   },
   "file_extension": ".py",
   "mimetype": "text/x-python",
   "name": "python",
   "nbconvert_exporter": "python",
   "pygments_lexer": "ipython2",
   "version": "2.7.11"
  }
 },
 "nbformat": 4,
 "nbformat_minor": 0
}
